{
 "cells": [
  {
   "cell_type": "markdown",
   "id": "634b6136",
   "metadata": {},
   "source": [
    "### Тинькофф Образование. Курс Анализ данных в индустрии 2023"
   ]
  },
  {
   "cell_type": "markdown",
   "id": "c201b108",
   "metadata": {},
   "source": [
    "Для выполнения задания потребуется самому сгенерировать данные с помощью модуля random (все пункты выполняются с помощью нее).\n",
    "\n",
    "Что необходимо, для создания будущей таблицы:\n",
    "\n",
    "0) Для генерации данных в random необходимо установить seed = \"АДВИ_2023\", всего длинна каждого списка N = 1000;\n",
    "\n",
    "1) index колонка: создать список из N последовательных целых элементов от 1 до 1000 включительно, далее, с помощью random, перемешать его -> будем использовать как ;\n",
    "\n",
    "2) groups колонка: создать список из N элементов, состоящий из значений из списка [\"группа_1\", \"группа_2\", \"группа_3\", \"группа_4\", \"группа_5\"] (равномерное распределение);\n",
    "\n",
    "3) uniform колонка: создать список из N элементов, состоящий из целых значение из равномерного распределения [50, 100];\n",
    "\n",
    "4) gauss_1, gauss_2, gauss_3 колонки: Создать 3 списка из N элементов каждый, заполненные значениями из нормальных распределений с параметрами:  \n",
    "μ = 0, σ^2 = 1 -> третья колонка gauss_1;  \n",
    "μ = 0, σ^2 = 144 -> четвертая колонка gauss_2;  \n",
    "μ = 50, σ^2 = 81 ->  пятая колонка gauss_3;  \n",
    "\n",
    "5) Создать pandas DataFrame, где (1) будет индексом, (2)-(4) колонки, названия колонок [\"groups\", \"uniform\", \"gauss_1\", \"gauss_2\", \"gauss_3\"] соответственно, не забывая проверить, что типы колонок должны соответствовать заявленным типам данных;\n",
    "\n",
    "6) Для колонок gauss_1 и gauss_2 заменить значения на None:\n",
    "\n",
    "Для gauss_1_col, если индекс у значение делится на 121 без остатка;  \n",
    "Для gauss_2_col, если дробная часть больше 0.95;  \n",
    "\n",
    "7) Теперь, для пропущенных значений gauss_1 и gauss_2:\n",
    "\n",
    "Для gauss_2_col None заменить на среднее по колонке;  \n",
    "Удалить строчки из таблицы, где gauss_1_col == None."
   ]
  },
  {
   "cell_type": "code",
   "execution_count": 1,
   "id": "6be89e4c",
   "metadata": {},
   "outputs": [],
   "source": [
    "import random\n",
    "import pandas as pd"
   ]
  },
  {
   "cell_type": "code",
   "execution_count": 2,
   "id": "df2916a9",
   "metadata": {},
   "outputs": [],
   "source": [
    "#устанавливаем seed\n",
    "random.seed(\"АДВИ_2023\")\n",
    "#создаем список с индексами\n",
    "index1 = [i for i in range(1, 1001)]\n",
    "#перемешиваем индексы\n",
    "random.shuffle(index1)\n",
    "#значения для столбца groups\n",
    "groups1 = [\"группа_1\", \"группа_2\", \"группа_3\", \"группа_4\", \"группа_5\"]\n",
    "#список groups через равномерное распределения\n",
    "groups1 = random.choices(groups1, k=1000)\n",
    "#список из 1000 элементов, состоящий из целых значение из равномерного распределения [50, 100] \n",
    "uniform1 = [random.randint(50, 100) for _ in range(1000)]\n",
    "#списки, заполненные значениями из нормальных распределений\n",
    "gauss_1 = [random.gauss(0, 1) for i in range(0, 1000)]\n",
    "gauss_2 = [random.gauss(0, 12) for i in range(0, 1000)]\n",
    "gauss_3 = [random.gauss(50, 9) for i in range(0, 1000)]"
   ]
  },
  {
   "cell_type": "code",
   "execution_count": 3,
   "id": "0812ad8d",
   "metadata": {},
   "outputs": [],
   "source": [
    "#создаем df\n",
    "df = pd.DataFrame({\"groups\":groups1,\n",
    "                   \"uniform\":uniform1,\n",
    "                   \"gauss_1\":gauss_1,\n",
    "                   \"gauss_2\":gauss_2,\n",
    "                   \"gauss_3\":gauss_3}, index = index1)"
   ]
  },
  {
   "cell_type": "code",
   "execution_count": 4,
   "id": "e2fbcf55",
   "metadata": {},
   "outputs": [],
   "source": [
    "#значение делится на 121 без остатка\n",
    "df.loc[(df.index%121 == 0), 'gauss_1'] = None\n",
    "#дробная часть больше 0.95\n",
    "df.loc[(abs(df.gauss_2)%1 > 0.95), 'gauss_2'] = None"
   ]
  },
  {
   "cell_type": "code",
   "execution_count": 5,
   "id": "df824f4f",
   "metadata": {},
   "outputs": [],
   "source": [
    "#оставить строки, где строки gauss_1 не пустые\n",
    "df = df[~(df.gauss_1.isna())]\n",
    "#заполнить пустые средним по колонке\n",
    "df['gauss_2'] = df['gauss_2'].fillna(df.gauss_2.mean())"
   ]
  },
  {
   "cell_type": "code",
   "execution_count": 6,
   "id": "2d429bb1",
   "metadata": {},
   "outputs": [
    {
     "data": {
      "text/html": [
       "<div>\n",
       "<style scoped>\n",
       "    .dataframe tbody tr th:only-of-type {\n",
       "        vertical-align: middle;\n",
       "    }\n",
       "\n",
       "    .dataframe tbody tr th {\n",
       "        vertical-align: top;\n",
       "    }\n",
       "\n",
       "    .dataframe thead th {\n",
       "        text-align: right;\n",
       "    }\n",
       "</style>\n",
       "<table border=\"1\" class=\"dataframe\">\n",
       "  <thead>\n",
       "    <tr style=\"text-align: right;\">\n",
       "      <th></th>\n",
       "      <th>groups</th>\n",
       "      <th>uniform</th>\n",
       "      <th>gauss_1</th>\n",
       "      <th>gauss_2</th>\n",
       "      <th>gauss_3</th>\n",
       "    </tr>\n",
       "  </thead>\n",
       "  <tbody>\n",
       "    <tr>\n",
       "      <th>476</th>\n",
       "      <td>группа_1</td>\n",
       "      <td>95</td>\n",
       "      <td>3.010291</td>\n",
       "      <td>2.156346</td>\n",
       "      <td>57.455851</td>\n",
       "    </tr>\n",
       "    <tr>\n",
       "      <th>315</th>\n",
       "      <td>группа_5</td>\n",
       "      <td>77</td>\n",
       "      <td>0.190277</td>\n",
       "      <td>-9.934550</td>\n",
       "      <td>62.694177</td>\n",
       "    </tr>\n",
       "    <tr>\n",
       "      <th>490</th>\n",
       "      <td>группа_4</td>\n",
       "      <td>96</td>\n",
       "      <td>-0.282161</td>\n",
       "      <td>9.211071</td>\n",
       "      <td>54.688895</td>\n",
       "    </tr>\n",
       "    <tr>\n",
       "      <th>748</th>\n",
       "      <td>группа_3</td>\n",
       "      <td>56</td>\n",
       "      <td>1.127080</td>\n",
       "      <td>-12.391793</td>\n",
       "      <td>30.192353</td>\n",
       "    </tr>\n",
       "    <tr>\n",
       "      <th>471</th>\n",
       "      <td>группа_5</td>\n",
       "      <td>52</td>\n",
       "      <td>-1.238270</td>\n",
       "      <td>10.938748</td>\n",
       "      <td>52.682052</td>\n",
       "    </tr>\n",
       "  </tbody>\n",
       "</table>\n",
       "</div>"
      ],
      "text/plain": [
       "       groups  uniform   gauss_1    gauss_2    gauss_3\n",
       "476  группа_1       95  3.010291   2.156346  57.455851\n",
       "315  группа_5       77  0.190277  -9.934550  62.694177\n",
       "490  группа_4       96 -0.282161   9.211071  54.688895\n",
       "748  группа_3       56  1.127080 -12.391793  30.192353\n",
       "471  группа_5       52 -1.238270  10.938748  52.682052"
      ]
     },
     "execution_count": 6,
     "metadata": {},
     "output_type": "execute_result"
    }
   ],
   "source": [
    "df.head()"
   ]
  },
  {
   "cell_type": "markdown",
   "id": "03dd07d6",
   "metadata": {},
   "source": [
    "### 1. Сколько всего получилось записей в таблице после выполнения всех пунктов из условия?"
   ]
  },
  {
   "cell_type": "code",
   "execution_count": 7,
   "id": "3e5a248a",
   "metadata": {},
   "outputs": [
    {
     "data": {
      "text/plain": [
       "992"
      ]
     },
     "execution_count": 7,
     "metadata": {},
     "output_type": "execute_result"
    }
   ],
   "source": [
    "df.shape[0]"
   ]
  },
  {
   "cell_type": "markdown",
   "id": "b5728b18",
   "metadata": {},
   "source": [
    "Ответ: 992"
   ]
  },
  {
   "cell_type": "markdown",
   "id": "d1c7bbf3",
   "metadata": {},
   "source": [
    "### 2. Для колонки gauss_2 посчитать среднее и среднеквадратическое отклонение\n",
    "Результаты необходимо написать в одну ячейку, разделенные пробелом, сначала среднее потом среднеквадратическое отклонение. Результаты округлить до сотых. Для дробной части использовать точку, как разделитель."
   ]
  },
  {
   "cell_type": "code",
   "execution_count": 8,
   "id": "68bfb8d3",
   "metadata": {},
   "outputs": [
    {
     "data": {
      "text/plain": [
       "-0.06"
      ]
     },
     "execution_count": 8,
     "metadata": {},
     "output_type": "execute_result"
    }
   ],
   "source": [
    "#среднее\n",
    "round(df.gauss_2.mean(),2)"
   ]
  },
  {
   "cell_type": "code",
   "execution_count": 9,
   "id": "d69f02c3",
   "metadata": {},
   "outputs": [
    {
     "data": {
      "text/plain": [
       "11.77"
      ]
     },
     "execution_count": 9,
     "metadata": {},
     "output_type": "execute_result"
    }
   ],
   "source": [
    "#среднеквадратическое отклонение\n",
    "round(df.gauss_2.std( ),2)"
   ]
  },
  {
   "cell_type": "markdown",
   "id": "1b6ce1c8",
   "metadata": {},
   "source": [
    "Ответ: -0.06 11.77"
   ]
  },
  {
   "cell_type": "markdown",
   "id": "d2a6df39",
   "metadata": {},
   "source": [
    "### 3. Какая группа встречается чаще всего и сколько раз?\n",
    "Сначала вывести название группы, через пробел указать целое число."
   ]
  },
  {
   "cell_type": "code",
   "execution_count": 10,
   "id": "a1c6d0ad",
   "metadata": {},
   "outputs": [
    {
     "data": {
      "text/plain": [
       "группа_4    222\n",
       "Name: groups, dtype: int64"
      ]
     },
     "execution_count": 10,
     "metadata": {},
     "output_type": "execute_result"
    }
   ],
   "source": [
    "df.groups.value_counts().head(1)"
   ]
  },
  {
   "cell_type": "markdown",
   "id": "6fa9e249",
   "metadata": {},
   "source": [
    "Ответ: группа_4 222"
   ]
  },
  {
   "cell_type": "markdown",
   "id": "272130b5",
   "metadata": {},
   "source": [
    "### 4. Для группа_5 вывести самый \"ранний\" (наименьший) индекс"
   ]
  },
  {
   "cell_type": "code",
   "execution_count": 11,
   "id": "e512d2af",
   "metadata": {},
   "outputs": [
    {
     "data": {
      "text/html": [
       "<div>\n",
       "<style scoped>\n",
       "    .dataframe tbody tr th:only-of-type {\n",
       "        vertical-align: middle;\n",
       "    }\n",
       "\n",
       "    .dataframe tbody tr th {\n",
       "        vertical-align: top;\n",
       "    }\n",
       "\n",
       "    .dataframe thead th {\n",
       "        text-align: right;\n",
       "    }\n",
       "</style>\n",
       "<table border=\"1\" class=\"dataframe\">\n",
       "  <thead>\n",
       "    <tr style=\"text-align: right;\">\n",
       "      <th></th>\n",
       "      <th>index</th>\n",
       "      <th>groups</th>\n",
       "      <th>uniform</th>\n",
       "      <th>gauss_1</th>\n",
       "      <th>gauss_2</th>\n",
       "      <th>gauss_3</th>\n",
       "    </tr>\n",
       "  </thead>\n",
       "  <tbody>\n",
       "    <tr>\n",
       "      <th>174</th>\n",
       "      <td>6</td>\n",
       "      <td>группа_5</td>\n",
       "      <td>64</td>\n",
       "      <td>0.121862</td>\n",
       "      <td>-15.706344</td>\n",
       "      <td>37.264697</td>\n",
       "    </tr>\n",
       "  </tbody>\n",
       "</table>\n",
       "</div>"
      ],
      "text/plain": [
       "     index    groups  uniform   gauss_1    gauss_2    gauss_3\n",
       "174      6  группа_5       64  0.121862 -15.706344  37.264697"
      ]
     },
     "execution_count": 11,
     "metadata": {},
     "output_type": "execute_result"
    }
   ],
   "source": [
    "df[df.groups == 'группа_5'].reset_index().nsmallest(1, columns = 'index')"
   ]
  },
  {
   "cell_type": "markdown",
   "id": "ffa8243a",
   "metadata": {},
   "source": [
    "Ответ: 6"
   ]
  },
  {
   "cell_type": "markdown",
   "id": "f97fddd9",
   "metadata": {},
   "source": [
    "### 5. Сколько записей из колонки uniform имеют значение не ниже значения 90% перцентиля?"
   ]
  },
  {
   "cell_type": "code",
   "execution_count": 12,
   "id": "f2bcfd69",
   "metadata": {},
   "outputs": [
    {
     "data": {
      "text/plain": [
       "groups     118\n",
       "uniform    118\n",
       "gauss_1    118\n",
       "gauss_2    118\n",
       "gauss_3    118\n",
       "dtype: int64"
      ]
     },
     "execution_count": 12,
     "metadata": {},
     "output_type": "execute_result"
    }
   ],
   "source": [
    "df[df.uniform >= df.uniform.quantile(0.9)].count()"
   ]
  },
  {
   "cell_type": "markdown",
   "id": "dd7a88e0",
   "metadata": {},
   "source": [
    "Ответ: 118"
   ]
  },
  {
   "cell_type": "markdown",
   "id": "099c1c68",
   "metadata": {},
   "source": [
    "### 6. У какой группы наибольшее значение медианы для gauss_3?\n",
    "Вывести это значение вместе с группой. Сначала группа, через пробел значение медианы (результат округлить до сотых , для дробной части использовать точку, как разделитель)"
   ]
  },
  {
   "cell_type": "code",
   "execution_count": 13,
   "id": "76883c05",
   "metadata": {},
   "outputs": [
    {
     "data": {
      "text/html": [
       "<div>\n",
       "<style scoped>\n",
       "    .dataframe tbody tr th:only-of-type {\n",
       "        vertical-align: middle;\n",
       "    }\n",
       "\n",
       "    .dataframe tbody tr th {\n",
       "        vertical-align: top;\n",
       "    }\n",
       "\n",
       "    .dataframe thead th {\n",
       "        text-align: right;\n",
       "    }\n",
       "</style>\n",
       "<table border=\"1\" class=\"dataframe\">\n",
       "  <thead>\n",
       "    <tr style=\"text-align: right;\">\n",
       "      <th></th>\n",
       "      <th>gauss_3</th>\n",
       "    </tr>\n",
       "    <tr>\n",
       "      <th>groups</th>\n",
       "      <th></th>\n",
       "    </tr>\n",
       "  </thead>\n",
       "  <tbody>\n",
       "    <tr>\n",
       "      <th>группа_2</th>\n",
       "      <td>49.990529</td>\n",
       "    </tr>\n",
       "  </tbody>\n",
       "</table>\n",
       "</div>"
      ],
      "text/plain": [
       "            gauss_3\n",
       "groups             \n",
       "группа_2  49.990529"
      ]
     },
     "execution_count": 13,
     "metadata": {},
     "output_type": "execute_result"
    }
   ],
   "source": [
    "df.groupby('groups')\\\n",
    "  .agg({'gauss_3':'median'})\\\n",
    "  .nlargest(1, columns = 'gauss_3')"
   ]
  },
  {
   "cell_type": "markdown",
   "id": "a62363b2",
   "metadata": {},
   "source": [
    "Ответ: группа_2 49.99"
   ]
  },
  {
   "cell_type": "markdown",
   "id": "12ee4fbf",
   "metadata": {},
   "source": [
    "### 7. У какой группы наибольшее минимальное значение gauss_1?\n",
    "Ответ дать в виде группы, через пробел указать значение в gauss_2 с аналогичной агрегацией (результат округлить до сотых, для дробной части использовать точку, как разделитель)"
   ]
  },
  {
   "cell_type": "code",
   "execution_count": 14,
   "id": "66b52891",
   "metadata": {},
   "outputs": [
    {
     "data": {
      "text/html": [
       "<div>\n",
       "<style scoped>\n",
       "    .dataframe tbody tr th:only-of-type {\n",
       "        vertical-align: middle;\n",
       "    }\n",
       "\n",
       "    .dataframe tbody tr th {\n",
       "        vertical-align: top;\n",
       "    }\n",
       "\n",
       "    .dataframe thead th {\n",
       "        text-align: right;\n",
       "    }\n",
       "</style>\n",
       "<table border=\"1\" class=\"dataframe\">\n",
       "  <thead>\n",
       "    <tr style=\"text-align: right;\">\n",
       "      <th></th>\n",
       "      <th>gauss_1</th>\n",
       "    </tr>\n",
       "    <tr>\n",
       "      <th>groups</th>\n",
       "      <th></th>\n",
       "    </tr>\n",
       "  </thead>\n",
       "  <tbody>\n",
       "    <tr>\n",
       "      <th>группа_3</th>\n",
       "      <td>-2.606773</td>\n",
       "    </tr>\n",
       "  </tbody>\n",
       "</table>\n",
       "</div>"
      ],
      "text/plain": [
       "           gauss_1\n",
       "groups            \n",
       "группа_3 -2.606773"
      ]
     },
     "execution_count": 14,
     "metadata": {},
     "output_type": "execute_result"
    }
   ],
   "source": [
    "df.groupby('groups')\\\n",
    "  .agg({'gauss_1':'min'})\\\n",
    "  .nlargest(1, columns = 'gauss_1')"
   ]
  },
  {
   "cell_type": "code",
   "execution_count": 15,
   "id": "455649ec",
   "metadata": {},
   "outputs": [
    {
     "data": {
      "text/html": [
       "<div>\n",
       "<style scoped>\n",
       "    .dataframe tbody tr th:only-of-type {\n",
       "        vertical-align: middle;\n",
       "    }\n",
       "\n",
       "    .dataframe tbody tr th {\n",
       "        vertical-align: top;\n",
       "    }\n",
       "\n",
       "    .dataframe thead th {\n",
       "        text-align: right;\n",
       "    }\n",
       "</style>\n",
       "<table border=\"1\" class=\"dataframe\">\n",
       "  <thead>\n",
       "    <tr style=\"text-align: right;\">\n",
       "      <th></th>\n",
       "      <th>gauss_2</th>\n",
       "    </tr>\n",
       "    <tr>\n",
       "      <th>groups</th>\n",
       "      <th></th>\n",
       "    </tr>\n",
       "  </thead>\n",
       "  <tbody>\n",
       "    <tr>\n",
       "      <th>группа_3</th>\n",
       "      <td>-36.18752</td>\n",
       "    </tr>\n",
       "  </tbody>\n",
       "</table>\n",
       "</div>"
      ],
      "text/plain": [
       "           gauss_2\n",
       "groups            \n",
       "группа_3 -36.18752"
      ]
     },
     "execution_count": 15,
     "metadata": {},
     "output_type": "execute_result"
    }
   ],
   "source": [
    "df.groupby('groups')\\\n",
    "  .agg({'gauss_2':'min'})\\\n",
    "  .query('groups == \"группа_3\"')"
   ]
  },
  {
   "cell_type": "markdown",
   "id": "14cd3187",
   "metadata": {},
   "source": [
    "Ответ: группа_3 -36.19"
   ]
  },
  {
   "cell_type": "markdown",
   "id": "2c94c61c",
   "metadata": {},
   "source": [
    "### 8. Создать новую колонку gauss где значения будут получаться из (gauss_1 + gauss_2) / gauss_3\n",
    "Чему будет равен 70% перцентиль (результат округлить до сотых, для дробной части использовать точку, как разделитель)?\n"
   ]
  },
  {
   "cell_type": "code",
   "execution_count": 16,
   "id": "a0951b38",
   "metadata": {},
   "outputs": [],
   "source": [
    "df['gauss'] = (df.gauss_1 + df.gauss_2) / df.gauss_3"
   ]
  },
  {
   "cell_type": "code",
   "execution_count": 17,
   "id": "aaf16c1d",
   "metadata": {},
   "outputs": [
    {
     "data": {
      "text/plain": [
       "0.11"
      ]
     },
     "execution_count": 17,
     "metadata": {},
     "output_type": "execute_result"
    }
   ],
   "source": [
    "round(df.gauss.quantile(0.7),2)"
   ]
  },
  {
   "cell_type": "markdown",
   "id": "aad2b2be",
   "metadata": {},
   "source": [
    "Ответ: 0.11"
   ]
  }
 ],
 "metadata": {
  "kernelspec": {
   "display_name": "Python 3 (ipykernel)",
   "language": "python",
   "name": "python3"
  },
  "language_info": {
   "codemirror_mode": {
    "name": "ipython",
    "version": 3
   },
   "file_extension": ".py",
   "mimetype": "text/x-python",
   "name": "python",
   "nbconvert_exporter": "python",
   "pygments_lexer": "ipython3",
   "version": "3.9.13"
  }
 },
 "nbformat": 4,
 "nbformat_minor": 5
}
