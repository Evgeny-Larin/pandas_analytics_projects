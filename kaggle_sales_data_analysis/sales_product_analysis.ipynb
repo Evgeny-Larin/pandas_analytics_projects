{
 "cells": [
  {
   "cell_type": "markdown",
   "id": "e202ea6d",
   "metadata": {},
   "source": [
    "## Анализ Sales Product Data с сайта Kaggle  \n",
    "https://www.kaggle.com/datasets/knightbearr/sales-product-data  \n",
    "\n",
    "**Таблица состоит из следующих столбцов:**  \n",
    "+ **Order ID** - Идентификатор заказа — это система счисления, которую Amazon использует исключительно для отслеживания заказов. Каждый заказ получает свой идентификатор заказа, который не будет дублироваться. .  \n",
    "+ **Product** - Товар, который был продан.  \n",
    "+ **Quantity Ordered** - Заказанное количество — это общее количество заказанного товара в первоначальном заказе.  \n",
    "+ **Price Each** - Цена каждого продукта.  \n",
    "+ **Order Date** - Дата, когда клиент запрашивает отправку заказа.  \n",
    "+ **Purchase Address** - Адрес доставки.  \n",
    "\n",
    "#### Необходимо ответить на следующие вопросы:\n",
    "1. Какой год был лучшим для продаж? Сколько было заработано в этом году?\n",
    "2. Какой месяц был лучшим для продаж? Сколько было заработано в этом месяце?\n",
    "3. В каком городе было наибольшее количество продаж?\n",
    "4. В какое время мы должны показывать рекламу, чтобы максимизировать вероятность того, что клиент купит продукт?\n",
    "5. Какие продукты чаще всего продаются вместе?\n",
    "6. Какой товар продается больше всего? Как вы думаете, почему он продается больше всего?\n",
    "7. Какова вероятность того, что следующие люди закажут зарядный кабель USB-C?\n",
    "8. Какова вероятность того, что следующие люди закажут iPhone?\n",
    "9. Какова вероятность того, что следующие люди закажут Google Phone?\n",
    "10. Насколько вероятно, что другие люди будут заказывать проводные наушники?"
   ]
  },
  {
   "cell_type": "markdown",
   "id": "b2253a81",
   "metadata": {},
   "source": [
    "## Импорт библиотек"
   ]
  },
  {
   "cell_type": "code",
   "execution_count": 1,
   "id": "bf7603c0",
   "metadata": {},
   "outputs": [],
   "source": [
    "#импортируем необходимые библиотеки\n",
    "import zipfile\n",
    "import pandas as pd\n",
    "import numpy as np\n",
    "import matplotlib.pyplot as plt\n",
    "%matplotlib inline\n",
    "import seaborn as sns"
   ]
  },
  {
   "cell_type": "markdown",
   "id": "001b8726",
   "metadata": {},
   "source": [
    "## Парсинг файлов-источников"
   ]
  },
  {
   "cell_type": "code",
   "execution_count": 2,
   "id": "9807b436",
   "metadata": {},
   "outputs": [],
   "source": [
    "#создаем пустой df\n",
    "df = pd.DataFrame()"
   ]
  },
  {
   "cell_type": "code",
   "execution_count": 3,
   "id": "58c5d0c9",
   "metadata": {},
   "outputs": [],
   "source": [
    "#читаем архив\n",
    "zf = zipfile.ZipFile(r'source\\archive.zip')"
   ]
  },
  {
   "cell_type": "code",
   "execution_count": 4,
   "id": "438cf4df",
   "metadata": {},
   "outputs": [
    {
     "name": "stdout",
     "output_type": "stream",
     "text": [
      "(18383, 6)\n",
      "(12011, 6)\n",
      "(25117, 6)\n",
      "(12036, 6)\n",
      "(9723, 6)\n",
      "(14371, 6)\n",
      "(13622, 6)\n",
      "(15226, 6)\n",
      "(16635, 6)\n",
      "(17661, 6)\n",
      "(20379, 6)\n",
      "(11686, 6)\n"
     ]
    }
   ],
   "source": [
    "#для каждого файла в списке файлов, содержащихся в архиве:\n",
    "for file in zf.namelist():\n",
    "    df_from_zip = pd.read_csv(zf.open(file)) #откроем файл и прочитаем его с помощью pandas\n",
    "    print(df_from_zip.shape)                 #выведем количество строк и столбцов в файле\n",
    "    df = pd.concat([df, df_from_zip])        #добавим файл в общий df"
   ]
  },
  {
   "cell_type": "markdown",
   "id": "5c63ca5d",
   "metadata": {},
   "source": [
    "## Предобработка данных"
   ]
  },
  {
   "cell_type": "code",
   "execution_count": 5,
   "id": "5b753adc",
   "metadata": {},
   "outputs": [
    {
     "name": "stdout",
     "output_type": "stream",
     "text": [
      "<class 'pandas.core.frame.DataFrame'>\n",
      "Int64Index: 186850 entries, 0 to 11685\n",
      "Data columns (total 6 columns):\n",
      " #   Column            Non-Null Count   Dtype \n",
      "---  ------            --------------   ----- \n",
      " 0   Order ID          186305 non-null  object\n",
      " 1   Product           186305 non-null  object\n",
      " 2   Quantity Ordered  186305 non-null  object\n",
      " 3   Price Each        186305 non-null  object\n",
      " 4   Order Date        186305 non-null  object\n",
      " 5   Purchase Address  186305 non-null  object\n",
      "dtypes: object(6)\n",
      "memory usage: 10.0+ MB\n"
     ]
    }
   ],
   "source": [
    "df.info() #основная информация о df: столбцы, количество непустых значений, типы столбцов"
   ]
  },
  {
   "cell_type": "code",
   "execution_count": 6,
   "id": "5e853687",
   "metadata": {},
   "outputs": [
    {
     "data": {
      "text/plain": [
       "Order ID            545\n",
       "Product             545\n",
       "Quantity Ordered    545\n",
       "Price Each          545\n",
       "Order Date          545\n",
       "Purchase Address    545\n",
       "dtype: int64"
      ]
     },
     "execution_count": 6,
     "metadata": {},
     "output_type": "execute_result"
    }
   ],
   "source": [
    "df.isnull().sum() #количество пустых значений в каждом столбце"
   ]
  },
  {
   "cell_type": "code",
   "execution_count": 7,
   "id": "773ea1d8",
   "metadata": {},
   "outputs": [
    {
     "data": {
      "text/plain": [
       "(186305, 6)"
      ]
     },
     "execution_count": 7,
     "metadata": {},
     "output_type": "execute_result"
    }
   ],
   "source": [
    "df = df.dropna() #удалим все пустые строки\n",
    "df.shape         #осталось 186305 строк, что соответсвует числу из метода info()"
   ]
  },
  {
   "cell_type": "code",
   "execution_count": 8,
   "id": "18499714",
   "metadata": {},
   "outputs": [
    {
     "data": {
      "text/plain": [
       "Order ID            0\n",
       "Product             0\n",
       "Quantity Ordered    0\n",
       "Price Each          0\n",
       "Order Date          0\n",
       "Purchase Address    0\n",
       "dtype: int64"
      ]
     },
     "execution_count": 8,
     "metadata": {},
     "output_type": "execute_result"
    }
   ],
   "source": [
    "df.isnull().sum() #пустых значений не осталось"
   ]
  },
  {
   "cell_type": "code",
   "execution_count": 9,
   "id": "9dea5101",
   "metadata": {},
   "outputs": [],
   "source": [
    "#переименуем столбцы, так как в них есть пробелы\n",
    "df.rename(columns = {'Order ID':'id',\n",
    "                     'Product':'product',\n",
    "                     'Quantity Ordered':'quantity',\n",
    "                     'Price Each':'price',\n",
    "                     'Order Date':'date',\n",
    "                     'Purchase Address':'address'}, inplace = True)"
   ]
  },
  {
   "cell_type": "code",
   "execution_count": 10,
   "id": "90d00f56",
   "metadata": {},
   "outputs": [
    {
     "data": {
      "text/html": [
       "<div>\n",
       "<style scoped>\n",
       "    .dataframe tbody tr th:only-of-type {\n",
       "        vertical-align: middle;\n",
       "    }\n",
       "\n",
       "    .dataframe tbody tr th {\n",
       "        vertical-align: top;\n",
       "    }\n",
       "\n",
       "    .dataframe thead th {\n",
       "        text-align: right;\n",
       "    }\n",
       "</style>\n",
       "<table border=\"1\" class=\"dataframe\">\n",
       "  <thead>\n",
       "    <tr style=\"text-align: right;\">\n",
       "      <th></th>\n",
       "      <th>id</th>\n",
       "      <th>product</th>\n",
       "      <th>quantity</th>\n",
       "      <th>price</th>\n",
       "      <th>date</th>\n",
       "      <th>address</th>\n",
       "    </tr>\n",
       "  </thead>\n",
       "  <tbody>\n",
       "    <tr>\n",
       "      <th>0</th>\n",
       "      <td>176558</td>\n",
       "      <td>USB-C Charging Cable</td>\n",
       "      <td>2</td>\n",
       "      <td>11.95</td>\n",
       "      <td>04/19/19 08:46</td>\n",
       "      <td>917 1st St, Dallas, TX 75001</td>\n",
       "    </tr>\n",
       "    <tr>\n",
       "      <th>2</th>\n",
       "      <td>176559</td>\n",
       "      <td>Bose SoundSport Headphones</td>\n",
       "      <td>1</td>\n",
       "      <td>99.99</td>\n",
       "      <td>04/07/19 22:30</td>\n",
       "      <td>682 Chestnut St, Boston, MA 02215</td>\n",
       "    </tr>\n",
       "    <tr>\n",
       "      <th>3</th>\n",
       "      <td>176560</td>\n",
       "      <td>Google Phone</td>\n",
       "      <td>1</td>\n",
       "      <td>600</td>\n",
       "      <td>04/12/19 14:38</td>\n",
       "      <td>669 Spruce St, Los Angeles, CA 90001</td>\n",
       "    </tr>\n",
       "    <tr>\n",
       "      <th>4</th>\n",
       "      <td>176560</td>\n",
       "      <td>Wired Headphones</td>\n",
       "      <td>1</td>\n",
       "      <td>11.99</td>\n",
       "      <td>04/12/19 14:38</td>\n",
       "      <td>669 Spruce St, Los Angeles, CA 90001</td>\n",
       "    </tr>\n",
       "    <tr>\n",
       "      <th>5</th>\n",
       "      <td>176561</td>\n",
       "      <td>Wired Headphones</td>\n",
       "      <td>1</td>\n",
       "      <td>11.99</td>\n",
       "      <td>04/30/19 09:27</td>\n",
       "      <td>333 8th St, Los Angeles, CA 90001</td>\n",
       "    </tr>\n",
       "  </tbody>\n",
       "</table>\n",
       "</div>"
      ],
      "text/plain": [
       "       id                     product quantity  price            date  \\\n",
       "0  176558        USB-C Charging Cable        2  11.95  04/19/19 08:46   \n",
       "2  176559  Bose SoundSport Headphones        1  99.99  04/07/19 22:30   \n",
       "3  176560                Google Phone        1    600  04/12/19 14:38   \n",
       "4  176560            Wired Headphones        1  11.99  04/12/19 14:38   \n",
       "5  176561            Wired Headphones        1  11.99  04/30/19 09:27   \n",
       "\n",
       "                                address  \n",
       "0          917 1st St, Dallas, TX 75001  \n",
       "2     682 Chestnut St, Boston, MA 02215  \n",
       "3  669 Spruce St, Los Angeles, CA 90001  \n",
       "4  669 Spruce St, Los Angeles, CA 90001  \n",
       "5     333 8th St, Los Angeles, CA 90001  "
      ]
     },
     "execution_count": 10,
     "metadata": {},
     "output_type": "execute_result"
    }
   ],
   "source": [
    "#взглянем на первые 5 строк в df\n",
    "df.head() #видно, что столбец quantity содержит целые числа\n",
    "          #столбец price содержит числа с точкой\n",
    "          #столбец date содержит даты"
   ]
  },
  {
   "cell_type": "markdown",
   "id": "66e9f69f",
   "metadata": {},
   "source": [
    "переведем с столбец quantity в тип int\n",
    "\n",
    "df['quantity'] = df['quantity'].astype(int)\n",
    "\n",
    "Но получим ошибку ValueError: invalid literal for int() with base 10: 'Quantity Ordered'\n",
    "Это значит, что данные включают значения, которые нельзя интерпретировать как числа"
   ]
  },
  {
   "cell_type": "code",
   "execution_count": 11,
   "id": "3794472a",
   "metadata": {},
   "outputs": [
    {
     "data": {
      "text/html": [
       "<div>\n",
       "<style scoped>\n",
       "    .dataframe tbody tr th:only-of-type {\n",
       "        vertical-align: middle;\n",
       "    }\n",
       "\n",
       "    .dataframe tbody tr th {\n",
       "        vertical-align: top;\n",
       "    }\n",
       "\n",
       "    .dataframe thead th {\n",
       "        text-align: right;\n",
       "    }\n",
       "</style>\n",
       "<table border=\"1\" class=\"dataframe\">\n",
       "  <thead>\n",
       "    <tr style=\"text-align: right;\">\n",
       "      <th></th>\n",
       "      <th>id</th>\n",
       "      <th>product</th>\n",
       "      <th>quantity</th>\n",
       "      <th>price</th>\n",
       "      <th>date</th>\n",
       "      <th>address</th>\n",
       "    </tr>\n",
       "  </thead>\n",
       "  <tbody>\n",
       "    <tr>\n",
       "      <th>519</th>\n",
       "      <td>Order ID</td>\n",
       "      <td>Product</td>\n",
       "      <td>Quantity Ordered</td>\n",
       "      <td>Price Each</td>\n",
       "      <td>Order Date</td>\n",
       "      <td>Purchase Address</td>\n",
       "    </tr>\n",
       "    <tr>\n",
       "      <th>1149</th>\n",
       "      <td>Order ID</td>\n",
       "      <td>Product</td>\n",
       "      <td>Quantity Ordered</td>\n",
       "      <td>Price Each</td>\n",
       "      <td>Order Date</td>\n",
       "      <td>Purchase Address</td>\n",
       "    </tr>\n",
       "    <tr>\n",
       "      <th>1155</th>\n",
       "      <td>Order ID</td>\n",
       "      <td>Product</td>\n",
       "      <td>Quantity Ordered</td>\n",
       "      <td>Price Each</td>\n",
       "      <td>Order Date</td>\n",
       "      <td>Purchase Address</td>\n",
       "    </tr>\n",
       "    <tr>\n",
       "      <th>2878</th>\n",
       "      <td>Order ID</td>\n",
       "      <td>Product</td>\n",
       "      <td>Quantity Ordered</td>\n",
       "      <td>Price Each</td>\n",
       "      <td>Order Date</td>\n",
       "      <td>Purchase Address</td>\n",
       "    </tr>\n",
       "    <tr>\n",
       "      <th>2893</th>\n",
       "      <td>Order ID</td>\n",
       "      <td>Product</td>\n",
       "      <td>Quantity Ordered</td>\n",
       "      <td>Price Each</td>\n",
       "      <td>Order Date</td>\n",
       "      <td>Purchase Address</td>\n",
       "    </tr>\n",
       "    <tr>\n",
       "      <th>...</th>\n",
       "      <td>...</td>\n",
       "      <td>...</td>\n",
       "      <td>...</td>\n",
       "      <td>...</td>\n",
       "      <td>...</td>\n",
       "      <td>...</td>\n",
       "    </tr>\n",
       "    <tr>\n",
       "      <th>10000</th>\n",
       "      <td>Order ID</td>\n",
       "      <td>Product</td>\n",
       "      <td>Quantity Ordered</td>\n",
       "      <td>Price Each</td>\n",
       "      <td>Order Date</td>\n",
       "      <td>Purchase Address</td>\n",
       "    </tr>\n",
       "    <tr>\n",
       "      <th>10387</th>\n",
       "      <td>Order ID</td>\n",
       "      <td>Product</td>\n",
       "      <td>Quantity Ordered</td>\n",
       "      <td>Price Each</td>\n",
       "      <td>Order Date</td>\n",
       "      <td>Purchase Address</td>\n",
       "    </tr>\n",
       "    <tr>\n",
       "      <th>11399</th>\n",
       "      <td>Order ID</td>\n",
       "      <td>Product</td>\n",
       "      <td>Quantity Ordered</td>\n",
       "      <td>Price Each</td>\n",
       "      <td>Order Date</td>\n",
       "      <td>Purchase Address</td>\n",
       "    </tr>\n",
       "    <tr>\n",
       "      <th>11468</th>\n",
       "      <td>Order ID</td>\n",
       "      <td>Product</td>\n",
       "      <td>Quantity Ordered</td>\n",
       "      <td>Price Each</td>\n",
       "      <td>Order Date</td>\n",
       "      <td>Purchase Address</td>\n",
       "    </tr>\n",
       "    <tr>\n",
       "      <th>11574</th>\n",
       "      <td>Order ID</td>\n",
       "      <td>Product</td>\n",
       "      <td>Quantity Ordered</td>\n",
       "      <td>Price Each</td>\n",
       "      <td>Order Date</td>\n",
       "      <td>Purchase Address</td>\n",
       "    </tr>\n",
       "  </tbody>\n",
       "</table>\n",
       "<p>355 rows × 6 columns</p>\n",
       "</div>"
      ],
      "text/plain": [
       "             id  product          quantity       price        date  \\\n",
       "519    Order ID  Product  Quantity Ordered  Price Each  Order Date   \n",
       "1149   Order ID  Product  Quantity Ordered  Price Each  Order Date   \n",
       "1155   Order ID  Product  Quantity Ordered  Price Each  Order Date   \n",
       "2878   Order ID  Product  Quantity Ordered  Price Each  Order Date   \n",
       "2893   Order ID  Product  Quantity Ordered  Price Each  Order Date   \n",
       "...         ...      ...               ...         ...         ...   \n",
       "10000  Order ID  Product  Quantity Ordered  Price Each  Order Date   \n",
       "10387  Order ID  Product  Quantity Ordered  Price Each  Order Date   \n",
       "11399  Order ID  Product  Quantity Ordered  Price Each  Order Date   \n",
       "11468  Order ID  Product  Quantity Ordered  Price Each  Order Date   \n",
       "11574  Order ID  Product  Quantity Ordered  Price Each  Order Date   \n",
       "\n",
       "                address  \n",
       "519    Purchase Address  \n",
       "1149   Purchase Address  \n",
       "1155   Purchase Address  \n",
       "2878   Purchase Address  \n",
       "2893   Purchase Address  \n",
       "...                 ...  \n",
       "10000  Purchase Address  \n",
       "10387  Purchase Address  \n",
       "11399  Purchase Address  \n",
       "11468  Purchase Address  \n",
       "11574  Purchase Address  \n",
       "\n",
       "[355 rows x 6 columns]"
      ]
     },
     "execution_count": 11,
     "metadata": {},
     "output_type": "execute_result"
    }
   ],
   "source": [
    "#взглянем на строку, у которой в столбце quantity есть текст 'Quantity Ordered'\n",
    "df[(df.quantity == 'Quantity Ordered')]"
   ]
  },
  {
   "cell_type": "code",
   "execution_count": 12,
   "id": "da2e7712",
   "metadata": {},
   "outputs": [],
   "source": [
    "#судя по всему, в данных встречаются строки-заголовки\n",
    "#это может быть связано с неправильным объединением мелких выборок/выгрузок в одну\n",
    "#удалим эти строки\n",
    "df = df[(df.quantity != 'Quantity Ordered')]"
   ]
  },
  {
   "cell_type": "code",
   "execution_count": 13,
   "id": "1ab353a7",
   "metadata": {
    "scrolled": true
   },
   "outputs": [
    {
     "data": {
      "text/plain": [
       "id      product                     quantity  price   date            address                               \n",
       "288995  Wired Headphones            1         11.99   11/04/19 23:58  552 Lincoln St, Portland, OR 97035        2\n",
       "201606  AA Batteries (4-pack)       1         3.84    05/02/19 14:07  309 Main St, Seattle, WA 98101            2\n",
       "256196  USB-C Charging Cable        1         11.95   09/27/19 21:09  253 6th St, Boston, MA 02215              2\n",
       "315204  Wired Headphones            1         11.99   12/12/19 12:41  680 6th St, San Francisco, CA 94016       2\n",
       "174972  USB-C Charging Cable        1         11.95   03/26/19 23:02  389 10th St, New York City, NY 10001      2\n",
       "                                                                                                               ..\n",
       "200687  Lightning Charging Cable    1         14.95   05/11/19 11:31  878 7th St, Atlanta, GA 30301             1\n",
       "200688  27in 4K Gaming Monitor      1         389.99  05/22/19 10:31  731 Wilson St, Los Angeles, CA 90001      1\n",
       "200689  USB-C Charging Cable        1         11.95   05/30/19 13:24  804 13th St, Portland, ME 04101           1\n",
       "200690  27in FHD Monitor            1         149.99  05/20/19 19:31  781 Maple St, Los Angeles, CA 90001       1\n",
       "319670  Bose SoundSport Headphones  1         99.99   12/21/19 21:45  747 Chestnut St, Los Angeles, CA 90001    1\n",
       "Length: 185686, dtype: int64"
      ]
     },
     "execution_count": 13,
     "metadata": {},
     "output_type": "execute_result"
    }
   ],
   "source": [
    "#оценим наш массив данных методом value_counts()\n",
    "#видно, что больше строк-заголовков нет\n",
    "#также видно, что в выборке присутсвуют строки-дубли\n",
    "df.value_counts()"
   ]
  },
  {
   "cell_type": "code",
   "execution_count": 14,
   "id": "ef203687",
   "metadata": {},
   "outputs": [],
   "source": [
    "#продолжим преобразование столбцов к правильным типам\n",
    "df['quantity'] = df['quantity'].astype('int')\n",
    "#можно так\n",
    "df['price'] = pd.to_numeric(df['price'])\n",
    "df['date'] = pd.to_datetime(df['date'])"
   ]
  },
  {
   "cell_type": "code",
   "execution_count": 15,
   "id": "7782e937",
   "metadata": {},
   "outputs": [
    {
     "data": {
      "text/plain": [
       "id                  object\n",
       "product             object\n",
       "quantity             int32\n",
       "price              float64\n",
       "date        datetime64[ns]\n",
       "address             object\n",
       "dtype: object"
      ]
     },
     "execution_count": 15,
     "metadata": {},
     "output_type": "execute_result"
    }
   ],
   "source": [
    "#правильные типы\n",
    "df.dtypes"
   ]
  },
  {
   "cell_type": "code",
   "execution_count": 16,
   "id": "5c5ba750",
   "metadata": {},
   "outputs": [],
   "source": [
    "#займемся дубликатами\n",
    "#в рамках одной транзакции (id) может быть куплено несколько видов разной продукции и они будут записаны в разные строки\n",
    "#но несколько единиц одной и той же продукции в рамках одной транзакции будут учитываться одной строкой в столбце quantity\n",
    "#следовательно, дубликатами нужно считать только полное дублирование всей строки \n",
    "df.drop_duplicates(inplace = True)"
   ]
  },
  {
   "cell_type": "code",
   "execution_count": 17,
   "id": "97e6d905",
   "metadata": {},
   "outputs": [
    {
     "data": {
      "text/plain": [
       "id      product                     quantity  price   date                 address                               \n",
       "141234  iPhone                      1         700.00  2019-01-22 21:25:00  944 Walnut St, Boston, MA 02215           1\n",
       "260170  27in 4K Gaming Monitor      1         389.99  2019-10-08 12:31:00  275 Sunset St, Los Angeles, CA 90001      1\n",
       "260172  Bose SoundSport Headphones  1         99.99   2019-10-16 21:03:00  636 Elm St, Boston, MA 02215              1\n",
       "260173  20in Monitor                1         109.99  2019-10-26 11:38:00  350 Washington St, Boston, MA 02215       1\n",
       "260174  USB-C Charging Cable        1         11.95   2019-10-16 09:22:00  889 Maple St, Austin, TX 73301            1\n",
       "                                                                                                                    ..\n",
       "200646  USB-C Charging Cable        2         11.95   2019-05-30 10:39:00  856 West St, San Francisco, CA 94016      1\n",
       "200647  Lightning Charging Cable    1         14.95   2019-05-12 09:34:00  813 9th St, Boston, MA 02215              1\n",
       "200648  Apple Airpods Headphones    1         150.00  2019-05-08 12:00:00  899 Chestnut St, Boston, MA 02215         1\n",
       "200649  AA Batteries (4-pack)       1         3.84    2019-05-26 19:13:00  725 Ridge St, Seattle, WA 98101           1\n",
       "319670  Bose SoundSport Headphones  1         99.99   2019-12-21 21:45:00  747 Chestnut St, Los Angeles, CA 90001    1\n",
       "Length: 185686, dtype: int64"
      ]
     },
     "execution_count": 17,
     "metadata": {},
     "output_type": "execute_result"
    }
   ],
   "source": [
    "#задублированных строк не осталось\n",
    "df.value_counts()"
   ]
  },
  {
   "cell_type": "code",
   "execution_count": 18,
   "id": "1ceb2cc6",
   "metadata": {},
   "outputs": [
    {
     "data": {
      "text/html": [
       "<div>\n",
       "<style scoped>\n",
       "    .dataframe tbody tr th:only-of-type {\n",
       "        vertical-align: middle;\n",
       "    }\n",
       "\n",
       "    .dataframe tbody tr th {\n",
       "        vertical-align: top;\n",
       "    }\n",
       "\n",
       "    .dataframe thead th {\n",
       "        text-align: right;\n",
       "    }\n",
       "</style>\n",
       "<table border=\"1\" class=\"dataframe\">\n",
       "  <thead>\n",
       "    <tr style=\"text-align: right;\">\n",
       "      <th></th>\n",
       "      <th>id</th>\n",
       "      <th>product</th>\n",
       "      <th>quantity</th>\n",
       "      <th>price</th>\n",
       "      <th>date</th>\n",
       "      <th>address</th>\n",
       "    </tr>\n",
       "  </thead>\n",
       "  <tbody>\n",
       "    <tr>\n",
       "      <th>0</th>\n",
       "      <td>176558</td>\n",
       "      <td>USB-C Charging Cable</td>\n",
       "      <td>2</td>\n",
       "      <td>11.95</td>\n",
       "      <td>2019-04-19 08:46:00</td>\n",
       "      <td>917 1st St, Dallas, TX 75001</td>\n",
       "    </tr>\n",
       "    <tr>\n",
       "      <th>2</th>\n",
       "      <td>176559</td>\n",
       "      <td>Bose SoundSport Headphones</td>\n",
       "      <td>1</td>\n",
       "      <td>99.99</td>\n",
       "      <td>2019-04-07 22:30:00</td>\n",
       "      <td>682 Chestnut St, Boston, MA 02215</td>\n",
       "    </tr>\n",
       "    <tr>\n",
       "      <th>3</th>\n",
       "      <td>176560</td>\n",
       "      <td>Google Phone</td>\n",
       "      <td>1</td>\n",
       "      <td>600.00</td>\n",
       "      <td>2019-04-12 14:38:00</td>\n",
       "      <td>669 Spruce St, Los Angeles, CA 90001</td>\n",
       "    </tr>\n",
       "    <tr>\n",
       "      <th>4</th>\n",
       "      <td>176560</td>\n",
       "      <td>Wired Headphones</td>\n",
       "      <td>1</td>\n",
       "      <td>11.99</td>\n",
       "      <td>2019-04-12 14:38:00</td>\n",
       "      <td>669 Spruce St, Los Angeles, CA 90001</td>\n",
       "    </tr>\n",
       "    <tr>\n",
       "      <th>5</th>\n",
       "      <td>176561</td>\n",
       "      <td>Wired Headphones</td>\n",
       "      <td>1</td>\n",
       "      <td>11.99</td>\n",
       "      <td>2019-04-30 09:27:00</td>\n",
       "      <td>333 8th St, Los Angeles, CA 90001</td>\n",
       "    </tr>\n",
       "  </tbody>\n",
       "</table>\n",
       "</div>"
      ],
      "text/plain": [
       "       id                     product  quantity   price                date  \\\n",
       "0  176558        USB-C Charging Cable         2   11.95 2019-04-19 08:46:00   \n",
       "2  176559  Bose SoundSport Headphones         1   99.99 2019-04-07 22:30:00   \n",
       "3  176560                Google Phone         1  600.00 2019-04-12 14:38:00   \n",
       "4  176560            Wired Headphones         1   11.99 2019-04-12 14:38:00   \n",
       "5  176561            Wired Headphones         1   11.99 2019-04-30 09:27:00   \n",
       "\n",
       "                                address  \n",
       "0          917 1st St, Dallas, TX 75001  \n",
       "2     682 Chestnut St, Boston, MA 02215  \n",
       "3  669 Spruce St, Los Angeles, CA 90001  \n",
       "4  669 Spruce St, Los Angeles, CA 90001  \n",
       "5     333 8th St, Los Angeles, CA 90001  "
      ]
     },
     "execution_count": 18,
     "metadata": {},
     "output_type": "execute_result"
    }
   ],
   "source": [
    "df.head()"
   ]
  },
  {
   "cell_type": "markdown",
   "id": "8594042f",
   "metadata": {},
   "source": [
    "## Выполнение аналитических задач"
   ]
  },
  {
   "cell_type": "markdown",
   "id": "381d952d",
   "metadata": {},
   "source": [
    "#### 1. Какой год был лучшим для продаж? Сколько было заработано в этом году?"
   ]
  },
  {
   "cell_type": "code",
   "execution_count": 19,
   "id": "d4465a3c",
   "metadata": {},
   "outputs": [],
   "source": [
    "#создадим столбец, содержащий год, выделенный из даты продажи\n",
    "df['year'] = df.date.dt.year"
   ]
  },
  {
   "cell_type": "code",
   "execution_count": 20,
   "id": "385948ad",
   "metadata": {},
   "outputs": [],
   "source": [
    "#рассчитаем для каждой продажи общую сумму\n",
    "df['amount'] = df['price'] * df['quantity']"
   ]
  },
  {
   "cell_type": "code",
   "execution_count": 21,
   "id": "aaa33a43",
   "metadata": {},
   "outputs": [
    {
     "data": {
      "text/html": [
       "<div>\n",
       "<style scoped>\n",
       "    .dataframe tbody tr th:only-of-type {\n",
       "        vertical-align: middle;\n",
       "    }\n",
       "\n",
       "    .dataframe tbody tr th {\n",
       "        vertical-align: top;\n",
       "    }\n",
       "\n",
       "    .dataframe thead th {\n",
       "        text-align: right;\n",
       "    }\n",
       "</style>\n",
       "<table border=\"1\" class=\"dataframe\">\n",
       "  <thead>\n",
       "    <tr style=\"text-align: right;\">\n",
       "      <th></th>\n",
       "      <th>year</th>\n",
       "      <th>amount</th>\n",
       "      <th>quantity</th>\n",
       "    </tr>\n",
       "  </thead>\n",
       "  <tbody>\n",
       "    <tr>\n",
       "      <th>0</th>\n",
       "      <td>2019</td>\n",
       "      <td>34456867.65</td>\n",
       "      <td>208771</td>\n",
       "    </tr>\n",
       "    <tr>\n",
       "      <th>1</th>\n",
       "      <td>2020</td>\n",
       "      <td>8670.29</td>\n",
       "      <td>41</td>\n",
       "    </tr>\n",
       "  </tbody>\n",
       "</table>\n",
       "</div>"
      ],
      "text/plain": [
       "   year       amount  quantity\n",
       "0  2019  34456867.65    208771\n",
       "1  2020      8670.29        41"
      ]
     },
     "execution_count": 21,
     "metadata": {},
     "output_type": "execute_result"
    }
   ],
   "source": [
    "#строим сводную таблицу\n",
    "pd.pivot_table(df,\n",
    "               index = 'year',\n",
    "               values = ['quantity', 'amount'],\n",
    "               aggfunc=sum)\\\n",
    "  .reset_index()"
   ]
  },
  {
   "cell_type": "markdown",
   "id": "5c3ef434",
   "metadata": {},
   "source": [
    "**Ответ:** лучший год для продаж был 2019. Было продано 208 771 ед. товаров на общую сумму 34 456 867.65$"
   ]
  },
  {
   "cell_type": "markdown",
   "id": "193754e1",
   "metadata": {},
   "source": [
    "#### 2. Какой месяц был лучшим для продаж? Сколько было заработано в этом месяце?"
   ]
  },
  {
   "cell_type": "code",
   "execution_count": 22,
   "id": "df898963",
   "metadata": {},
   "outputs": [],
   "source": [
    "#создадим столбец, содержащий месяц, выделенный из даты продажи\n",
    "df['month'] = df.date.dt.month"
   ]
  },
  {
   "cell_type": "code",
   "execution_count": 23,
   "id": "7e5e769e",
   "metadata": {},
   "outputs": [
    {
     "data": {
      "text/html": [
       "<div>\n",
       "<style scoped>\n",
       "    .dataframe tbody tr th:only-of-type {\n",
       "        vertical-align: middle;\n",
       "    }\n",
       "\n",
       "    .dataframe tbody tr th {\n",
       "        vertical-align: top;\n",
       "    }\n",
       "\n",
       "    .dataframe thead th {\n",
       "        text-align: right;\n",
       "    }\n",
       "</style>\n",
       "<table border=\"1\" class=\"dataframe\">\n",
       "  <thead>\n",
       "    <tr style=\"text-align: right;\">\n",
       "      <th></th>\n",
       "      <th>year</th>\n",
       "      <th>month</th>\n",
       "      <th>amount</th>\n",
       "      <th>quantity</th>\n",
       "    </tr>\n",
       "  </thead>\n",
       "  <tbody>\n",
       "    <tr>\n",
       "      <th>11</th>\n",
       "      <td>2019</td>\n",
       "      <td>12</td>\n",
       "      <td>4608295.70</td>\n",
       "      <td>28074</td>\n",
       "    </tr>\n",
       "    <tr>\n",
       "      <th>9</th>\n",
       "      <td>2019</td>\n",
       "      <td>10</td>\n",
       "      <td>3734777.86</td>\n",
       "      <td>22669</td>\n",
       "    </tr>\n",
       "    <tr>\n",
       "      <th>3</th>\n",
       "      <td>2019</td>\n",
       "      <td>4</td>\n",
       "      <td>3389217.98</td>\n",
       "      <td>20536</td>\n",
       "    </tr>\n",
       "  </tbody>\n",
       "</table>\n",
       "</div>"
      ],
      "text/plain": [
       "    year  month      amount  quantity\n",
       "11  2019     12  4608295.70     28074\n",
       "9   2019     10  3734777.86     22669\n",
       "3   2019      4  3389217.98     20536"
      ]
     },
     "execution_count": 23,
     "metadata": {},
     "output_type": "execute_result"
    }
   ],
   "source": [
    "#строим сводную таблицу\n",
    "pd.pivot_table(df,\n",
    "               index = ['year', 'month'],\n",
    "               values = ['quantity', 'amount'],\n",
    "               aggfunc=sum)\\\n",
    "  .reset_index()\\\n",
    "  .sort_values('quantity', ascending = False)\\\n",
    "  .head(3)"
   ]
  },
  {
   "cell_type": "markdown",
   "id": "ad2bd60b",
   "metadata": {},
   "source": [
    "**Ответ:** лучший месяц для продаж был декабрь 2019 года. Было продано 28 074 ед. товаров на общую сумму 4 608 295.70  Возможно, это связано с тем, что в декабре совершается большое количество покупок в преддверии нового года"
   ]
  },
  {
   "cell_type": "markdown",
   "id": "9abdefd6",
   "metadata": {},
   "source": [
    "#### 3. В каком городе было наибольшее количество продаж?"
   ]
  },
  {
   "cell_type": "code",
   "execution_count": 24,
   "id": "24cdedbb",
   "metadata": {},
   "outputs": [],
   "source": [
    "#выделим из адреса только города в отдельный столбец\n",
    "df['city'] = df.address.apply(lambda x: x.split(', ')[1])"
   ]
  },
  {
   "cell_type": "code",
   "execution_count": 25,
   "id": "46dfacb9",
   "metadata": {},
   "outputs": [
    {
     "data": {
      "text/html": [
       "<div>\n",
       "<style scoped>\n",
       "    .dataframe tbody tr th:only-of-type {\n",
       "        vertical-align: middle;\n",
       "    }\n",
       "\n",
       "    .dataframe tbody tr th {\n",
       "        vertical-align: top;\n",
       "    }\n",
       "\n",
       "    .dataframe thead th {\n",
       "        text-align: right;\n",
       "    }\n",
       "</style>\n",
       "<table border=\"1\" class=\"dataframe\">\n",
       "  <thead>\n",
       "    <tr style=\"text-align: right;\">\n",
       "      <th></th>\n",
       "      <th>city</th>\n",
       "      <th>amount</th>\n",
       "      <th>quantity</th>\n",
       "    </tr>\n",
       "  </thead>\n",
       "  <tbody>\n",
       "    <tr>\n",
       "      <th>7</th>\n",
       "      <td>San Francisco</td>\n",
       "      <td>8254743.55</td>\n",
       "      <td>50169</td>\n",
       "    </tr>\n",
       "    <tr>\n",
       "      <th>4</th>\n",
       "      <td>Los Angeles</td>\n",
       "      <td>5448304.28</td>\n",
       "      <td>33247</td>\n",
       "    </tr>\n",
       "    <tr>\n",
       "      <th>5</th>\n",
       "      <td>New York City</td>\n",
       "      <td>4661867.14</td>\n",
       "      <td>27903</td>\n",
       "    </tr>\n",
       "  </tbody>\n",
       "</table>\n",
       "</div>"
      ],
      "text/plain": [
       "            city      amount  quantity\n",
       "7  San Francisco  8254743.55     50169\n",
       "4    Los Angeles  5448304.28     33247\n",
       "5  New York City  4661867.14     27903"
      ]
     },
     "execution_count": 25,
     "metadata": {},
     "output_type": "execute_result"
    }
   ],
   "source": [
    "#строим сводную таблицу\n",
    "pd.pivot_table(df,\n",
    "               index = ['city'],\n",
    "               values = ['quantity', 'amount'],\n",
    "               aggfunc=sum)\\\n",
    "  .reset_index()\\\n",
    "  .sort_values('quantity', ascending = False)\\\n",
    "  .head(3)"
   ]
  },
  {
   "cell_type": "markdown",
   "id": "d0cf0efa",
   "metadata": {},
   "source": [
    "**Ответ:** В Сан-Франциско было наибольшее количество продаж: было продано 50 169 ед. товара на общую сумму 8 254 743.55$"
   ]
  },
  {
   "cell_type": "markdown",
   "id": "4904a907",
   "metadata": {},
   "source": [
    "#### 4. В какое время мы должны показывать рекламу, чтобы максимизировать вероятность того, что клиент купит продукт?"
   ]
  },
  {
   "cell_type": "code",
   "execution_count": 26,
   "id": "23482084",
   "metadata": {},
   "outputs": [],
   "source": [
    "#выделим из даты покупки время\n",
    "df['purchase_hour'] = df.date.dt.hour"
   ]
  },
  {
   "cell_type": "code",
   "execution_count": 27,
   "id": "dca1c4f2",
   "metadata": {
    "scrolled": false
   },
   "outputs": [],
   "source": [
    "#строим сводную таблицу\n",
    "ad_hours = pd.pivot_table(df,\n",
    "               index = ['purchase_hour'],\n",
    "               values = ['quantity'],\n",
    "               aggfunc=sum)\\\n",
    "             .sort_values('purchase_hour')"
   ]
  },
  {
   "cell_type": "code",
   "execution_count": 28,
   "id": "fc48c81f",
   "metadata": {
    "scrolled": true
   },
   "outputs": [
    {
     "data": {
      "text/plain": [
       "Text(0, 0.5, 'Количество продаж')"
      ]
     },
     "execution_count": 28,
     "metadata": {},
     "output_type": "execute_result"
    },
    {
     "data": {
      "image/png": "[encoded data removed]",
      "text/plain": [
       "<Figure size 2400x600 with 1 Axes>"
      ]
     },
     "metadata": {},
     "output_type": "display_data"
    }
   ],
   "source": [
    "#выводим данные сводной таблицы на график\n",
    "plt.figure(figsize = (24, 6))\n",
    "\n",
    "sns.barplot(data = ad_hours, x = ad_hours.index, y = ad_hours['quantity'], palette = 'crest')\n",
    "\n",
    "plt.title('Распределение количества продаж по времени суток', fontname = 'cursive', weight = 'bold')\n",
    "plt.xlabel('Часы', weight = 'bold')\n",
    "plt.ylabel('Количество продаж', weight = 'bold')"
   ]
  },
  {
   "cell_type": "markdown",
   "id": "a1a52b69",
   "metadata": {},
   "source": [
    "**Ответ:** на графике видно, что за сутки максимальное количество продаж приходится на 11-13 часов утра и 18-20 часов вечера.  \n",
    "    Возможно, это связано с тем, что существенная часть клиентов совершает покупки в свободное от работы обеденное время и  \n",
    "    вечером, уже находясь дома. Следовательно, целесообразно показывать рекламу в эти два временных промежутка"
   ]
  },
  {
   "cell_type": "markdown",
   "id": "675cffa7",
   "metadata": {},
   "source": [
    "#### 5. Какие продукты чаще всего продаются вместе?"
   ]
  },
  {
   "cell_type": "code",
   "execution_count": 29,
   "id": "1146db21",
   "metadata": {},
   "outputs": [],
   "source": [
    "#группируем по id и получаем перечень всех заказанных товаров по каждому id и количество уникальных позиций\n",
    "big_orders = df.groupby('id', as_index = False)\\\n",
    "               .agg({'product':[set, 'count']})\n",
    "#убираем мультииндексы в заголовках столбцов\n",
    "big_orders.columns = [tup[1] if tup[1] else tup[0] for tup in big_orders.columns]\n",
    "#выводим только те id, у которых позиций в заказе больше 1\n",
    "big_orders = big_orders.query('count > 1')"
   ]
  },
  {
   "cell_type": "code",
   "execution_count": 30,
   "id": "265436c7",
   "metadata": {},
   "outputs": [],
   "source": [
    "#переведем set из множества в список и отсортируем каждый список\n",
    "big_orders['set'] = big_orders['set'].apply(list, sorted)"
   ]
  },
  {
   "cell_type": "code",
   "execution_count": 31,
   "id": "6ddc81ec",
   "metadata": {},
   "outputs": [
    {
     "data": {
      "text/plain": [
       "[Lightning Charging Cable, iPhone]                   895\n",
       "[USB-C Charging Cable, Google Phone]                 869\n",
       "[Wired Headphones, iPhone]                           361\n",
       "[USB-C Charging Cable, Vareebadd Phone]              318\n",
       "[Google Phone, Wired Headphones]                     311\n",
       "[Apple Airpods Headphones, iPhone]                   299\n",
       "[Google Phone, Bose SoundSport Headphones]           169\n",
       "[Vareebadd Phone, Wired Headphones]                  110\n",
       "[Lightning Charging Cable, AA Batteries (4-pack)]    103\n",
       "[USB-C Charging Cable, Lightning Charging Cable]      96\n",
       "Name: set, dtype: int64"
      ]
     },
     "execution_count": 31,
     "metadata": {},
     "output_type": "execute_result"
    }
   ],
   "source": [
    "#подсчитаем количество одинаковых комбинаций товаров в корзине\n",
    "big_orders.set.value_counts().head(10)"
   ]
  },
  {
   "cell_type": "markdown",
   "id": "5efc47eb",
   "metadata": {},
   "source": [
    "**Ответ:** чаще всего в одной корзине оказывались товары Lightning Charging Cable и iPhone (886 раз), а также USB-C Charging Cable и Google Phone (869 раз). Это логично: покупаешь смартфон - купи и запасной кабель (соответсвующего типа).  \n",
    "Также часто заказывают беспроводные наушники в комплекте со смартфоном (374 раза с iPhone и 311 раз с Google Phone)"
   ]
  },
  {
   "cell_type": "markdown",
   "id": "1b1e4376",
   "metadata": {},
   "source": [
    "#### 6. Какой товар продается больше всего? Как вы думаете, почему он продается больше всего?"
   ]
  },
  {
   "cell_type": "code",
   "execution_count": 32,
   "id": "543f82c4",
   "metadata": {},
   "outputs": [
    {
     "data": {
      "text/html": [
       "<div>\n",
       "<style scoped>\n",
       "    .dataframe tbody tr th:only-of-type {\n",
       "        vertical-align: middle;\n",
       "    }\n",
       "\n",
       "    .dataframe tbody tr th {\n",
       "        vertical-align: top;\n",
       "    }\n",
       "\n",
       "    .dataframe thead th {\n",
       "        text-align: right;\n",
       "    }\n",
       "</style>\n",
       "<table border=\"1\" class=\"dataframe\">\n",
       "  <thead>\n",
       "    <tr style=\"text-align: right;\">\n",
       "      <th></th>\n",
       "      <th>product</th>\n",
       "      <th>quantity</th>\n",
       "      <th>price</th>\n",
       "    </tr>\n",
       "  </thead>\n",
       "  <tbody>\n",
       "    <tr>\n",
       "      <th>5</th>\n",
       "      <td>AAA Batteries (4-pack)</td>\n",
       "      <td>30986</td>\n",
       "      <td>2.99</td>\n",
       "    </tr>\n",
       "    <tr>\n",
       "      <th>4</th>\n",
       "      <td>AA Batteries (4-pack)</td>\n",
       "      <td>27615</td>\n",
       "      <td>3.84</td>\n",
       "    </tr>\n",
       "    <tr>\n",
       "      <th>15</th>\n",
       "      <td>USB-C Charging Cable</td>\n",
       "      <td>23931</td>\n",
       "      <td>11.95</td>\n",
       "    </tr>\n",
       "    <tr>\n",
       "      <th>12</th>\n",
       "      <td>Lightning Charging Cable</td>\n",
       "      <td>23169</td>\n",
       "      <td>14.95</td>\n",
       "    </tr>\n",
       "    <tr>\n",
       "      <th>17</th>\n",
       "      <td>Wired Headphones</td>\n",
       "      <td>20524</td>\n",
       "      <td>11.99</td>\n",
       "    </tr>\n",
       "    <tr>\n",
       "      <th>6</th>\n",
       "      <td>Apple Airpods Headphones</td>\n",
       "      <td>15637</td>\n",
       "      <td>150.00</td>\n",
       "    </tr>\n",
       "    <tr>\n",
       "      <th>7</th>\n",
       "      <td>Bose SoundSport Headphones</td>\n",
       "      <td>13430</td>\n",
       "      <td>99.99</td>\n",
       "    </tr>\n",
       "    <tr>\n",
       "      <th>2</th>\n",
       "      <td>27in FHD Monitor</td>\n",
       "      <td>7541</td>\n",
       "      <td>149.99</td>\n",
       "    </tr>\n",
       "    <tr>\n",
       "      <th>18</th>\n",
       "      <td>iPhone</td>\n",
       "      <td>6847</td>\n",
       "      <td>700.00</td>\n",
       "    </tr>\n",
       "    <tr>\n",
       "      <th>1</th>\n",
       "      <td>27in 4K Gaming Monitor</td>\n",
       "      <td>6239</td>\n",
       "      <td>389.99</td>\n",
       "    </tr>\n",
       "    <tr>\n",
       "      <th>3</th>\n",
       "      <td>34in Ultrawide Monitor</td>\n",
       "      <td>6192</td>\n",
       "      <td>379.99</td>\n",
       "    </tr>\n",
       "    <tr>\n",
       "      <th>9</th>\n",
       "      <td>Google Phone</td>\n",
       "      <td>5529</td>\n",
       "      <td>600.00</td>\n",
       "    </tr>\n",
       "    <tr>\n",
       "      <th>8</th>\n",
       "      <td>Flatscreen TV</td>\n",
       "      <td>4813</td>\n",
       "      <td>300.00</td>\n",
       "    </tr>\n",
       "    <tr>\n",
       "      <th>13</th>\n",
       "      <td>Macbook Pro Laptop</td>\n",
       "      <td>4725</td>\n",
       "      <td>1700.00</td>\n",
       "    </tr>\n",
       "    <tr>\n",
       "      <th>14</th>\n",
       "      <td>ThinkPad Laptop</td>\n",
       "      <td>4128</td>\n",
       "      <td>999.99</td>\n",
       "    </tr>\n",
       "    <tr>\n",
       "      <th>0</th>\n",
       "      <td>20in Monitor</td>\n",
       "      <td>4126</td>\n",
       "      <td>109.99</td>\n",
       "    </tr>\n",
       "    <tr>\n",
       "      <th>16</th>\n",
       "      <td>Vareebadd Phone</td>\n",
       "      <td>2068</td>\n",
       "      <td>400.00</td>\n",
       "    </tr>\n",
       "    <tr>\n",
       "      <th>11</th>\n",
       "      <td>LG Washing Machine</td>\n",
       "      <td>666</td>\n",
       "      <td>600.00</td>\n",
       "    </tr>\n",
       "    <tr>\n",
       "      <th>10</th>\n",
       "      <td>LG Dryer</td>\n",
       "      <td>646</td>\n",
       "      <td>600.00</td>\n",
       "    </tr>\n",
       "  </tbody>\n",
       "</table>\n",
       "</div>"
      ],
      "text/plain": [
       "                       product  quantity    price\n",
       "5       AAA Batteries (4-pack)     30986     2.99\n",
       "4        AA Batteries (4-pack)     27615     3.84\n",
       "15        USB-C Charging Cable     23931    11.95\n",
       "12    Lightning Charging Cable     23169    14.95\n",
       "17            Wired Headphones     20524    11.99\n",
       "6     Apple Airpods Headphones     15637   150.00\n",
       "7   Bose SoundSport Headphones     13430    99.99\n",
       "2             27in FHD Monitor      7541   149.99\n",
       "18                      iPhone      6847   700.00\n",
       "1       27in 4K Gaming Monitor      6239   389.99\n",
       "3       34in Ultrawide Monitor      6192   379.99\n",
       "9                 Google Phone      5529   600.00\n",
       "8                Flatscreen TV      4813   300.00\n",
       "13          Macbook Pro Laptop      4725  1700.00\n",
       "14             ThinkPad Laptop      4128   999.99\n",
       "0                 20in Monitor      4126   109.99\n",
       "16             Vareebadd Phone      2068   400.00\n",
       "11          LG Washing Machine       666   600.00\n",
       "10                    LG Dryer       646   600.00"
      ]
     },
     "execution_count": 32,
     "metadata": {},
     "output_type": "execute_result"
    }
   ],
   "source": [
    "#сгруппируем по наименованию товара и рассчитаем количество проданных штук\n",
    "best_products = df.groupby('product', as_index = False)\\\n",
    "                 .agg({'quantity':'sum', 'price': 'mean'})\\\n",
    "                 .sort_values('quantity', ascending = False)\n",
    "best_products"
   ]
  },
  {
   "cell_type": "code",
   "execution_count": 33,
   "id": "80dd6834",
   "metadata": {},
   "outputs": [
    {
     "data": {
      "text/html": [
       "<div>\n",
       "<style scoped>\n",
       "    .dataframe tbody tr th:only-of-type {\n",
       "        vertical-align: middle;\n",
       "    }\n",
       "\n",
       "    .dataframe tbody tr th {\n",
       "        vertical-align: top;\n",
       "    }\n",
       "\n",
       "    .dataframe thead th {\n",
       "        text-align: right;\n",
       "    }\n",
       "</style>\n",
       "<table border=\"1\" class=\"dataframe\">\n",
       "  <thead>\n",
       "    <tr style=\"text-align: right;\">\n",
       "      <th></th>\n",
       "      <th>quantity</th>\n",
       "      <th>price</th>\n",
       "    </tr>\n",
       "  </thead>\n",
       "  <tbody>\n",
       "    <tr>\n",
       "      <th>quantity</th>\n",
       "      <td>1.000000</td>\n",
       "      <td>-0.601297</td>\n",
       "    </tr>\n",
       "    <tr>\n",
       "      <th>price</th>\n",
       "      <td>-0.601297</td>\n",
       "      <td>1.000000</td>\n",
       "    </tr>\n",
       "  </tbody>\n",
       "</table>\n",
       "</div>"
      ],
      "text/plain": [
       "          quantity     price\n",
       "quantity  1.000000 -0.601297\n",
       "price    -0.601297  1.000000"
      ]
     },
     "execution_count": 33,
     "metadata": {},
     "output_type": "execute_result"
    }
   ],
   "source": [
    "#посмотрим на корреляцию цены товара и количества проданных штук\n",
    "best_products.corr()"
   ]
  },
  {
   "cell_type": "code",
   "execution_count": 34,
   "id": "c6bdc327",
   "metadata": {},
   "outputs": [
    {
     "data": {
      "image/png": "[encoded data removed]",
      "text/plain": [
       "<Figure size 900x600 with 1 Axes>"
      ]
     },
     "metadata": {},
     "output_type": "display_data"
    }
   ],
   "source": [
    "#область построения 11х6\n",
    "plt.figure(figsize=(9,6))\n",
    "products_prices = best_products[['product', 'price']].sort_values('price')\n",
    "ax = sns.barplot(data=products_prices,\n",
    "                 x=\"price\",\n",
    "                 y='product',\n",
    "#                  ci= None, #отключаем линию погрешности\n",
    "#                  log=True, #используем log=True, чтобы отобразить регионы с малым объемом\n",
    "                 palette = 'crest') #задаем цвет\n",
    "ax.set(xlabel= 'Цена, $',\n",
    "       ylabel= 'Товар')\n",
    "#подписи значений столбцов, padding задает расстояние от вершины, fmt устанавливает формат - округление до целых\n",
    "ax.bar_label(ax.containers[0], padding = 2)\n",
    "sns.despine()"
   ]
  },
  {
   "cell_type": "markdown",
   "id": "9cbe0316",
   "metadata": {},
   "source": [
    "Коэффициент -0,6 означает, что между двумя переменными есть сильная отрицательная корреляция. Следовательно, чем меньше цена, тем большее количество проданных единиц товара можно ожидать."
   ]
  },
  {
   "cell_type": "markdown",
   "id": "e05e029d",
   "metadata": {},
   "source": [
    "**Ответ:** больше всего было продано ААА батареек (комплект из 4 шт.) - 30986 упаковок.  \n",
    "Это связано с низкой ценой этого товара, а также с тем, что самые распространенные формы батареек - это AAA и АА (на втором месте в рейтинге самых продаваемых товаров)"
   ]
  },
  {
   "cell_type": "markdown",
   "id": "5d11db5a",
   "metadata": {},
   "source": [
    "#### 7. Какова вероятность того, что клиент закажет зарядный кабель USB-C?"
   ]
  },
  {
   "cell_type": "code",
   "execution_count": 35,
   "id": "28352642",
   "metadata": {},
   "outputs": [
    {
     "data": {
      "text/plain": [
       "178437"
      ]
     },
     "execution_count": 35,
     "metadata": {},
     "output_type": "execute_result"
    }
   ],
   "source": [
    "#определим, сколько было всего заказов\n",
    "uniq_id = df.id.nunique()\n",
    "uniq_id"
   ]
  },
  {
   "cell_type": "code",
   "execution_count": 36,
   "id": "d72e397b",
   "metadata": {},
   "outputs": [
    {
     "data": {
      "text/plain": [
       "21855"
      ]
     },
     "execution_count": 36,
     "metadata": {},
     "output_type": "execute_result"
    }
   ],
   "source": [
    "#определим, сколько заказов содержали зарядный кабель USB-C\n",
    "usbc_uniq_id = df.query('product == \"USB-C Charging Cable\"').id.nunique()\n",
    "usbc_uniq_id"
   ]
  },
  {
   "cell_type": "code",
   "execution_count": 37,
   "id": "906d0d99",
   "metadata": {},
   "outputs": [
    {
     "data": {
      "text/plain": [
       "12.25"
      ]
     },
     "execution_count": 37,
     "metadata": {},
     "output_type": "execute_result"
    }
   ],
   "source": [
    "#вычислим вероятность того, что клиент закажет зарядный кабель USB-C\n",
    "round(usbc_uniq_id / uniq_id * 100, 2)"
   ]
  },
  {
   "cell_type": "markdown",
   "id": "dc6b1a75",
   "metadata": {},
   "source": [
    "**Ответ:** Вероятность того, что клиент закажет зарядный кабель USB-C составляет 12.25%"
   ]
  },
  {
   "cell_type": "markdown",
   "id": "1f8fd063",
   "metadata": {},
   "source": [
    "#### 8. Какова вероятность того, что клиент закажет iPhone?"
   ]
  },
  {
   "cell_type": "code",
   "execution_count": 38,
   "id": "42cbff3d",
   "metadata": {},
   "outputs": [
    {
     "data": {
      "text/plain": [
       "6840"
      ]
     },
     "execution_count": 38,
     "metadata": {},
     "output_type": "execute_result"
    }
   ],
   "source": [
    "#определим, сколько заказов содержали зарядный кабель USB-C\n",
    "ip_uniq_id = df.query('product == \"iPhone\"').id.nunique()\n",
    "ip_uniq_id"
   ]
  },
  {
   "cell_type": "code",
   "execution_count": 39,
   "id": "6dac8600",
   "metadata": {},
   "outputs": [
    {
     "data": {
      "text/plain": [
       "3.83"
      ]
     },
     "execution_count": 39,
     "metadata": {},
     "output_type": "execute_result"
    }
   ],
   "source": [
    "#вычислим вероятность того, что клиент закажет iPhone\n",
    "round(ip_uniq_id / uniq_id * 100, 2)"
   ]
  },
  {
   "cell_type": "markdown",
   "id": "b53fc840",
   "metadata": {},
   "source": [
    "**Ответ:** Вероятность того, что клиент закажет iPhone составляет 3.83%"
   ]
  },
  {
   "cell_type": "markdown",
   "id": "149f6714",
   "metadata": {},
   "source": [
    "#### 9. Какова вероятность того, что клиент закажет Google Phone?"
   ]
  },
  {
   "cell_type": "code",
   "execution_count": 40,
   "id": "33a426b1",
   "metadata": {},
   "outputs": [
    {
     "data": {
      "text/plain": [
       "5522"
      ]
     },
     "execution_count": 40,
     "metadata": {},
     "output_type": "execute_result"
    }
   ],
   "source": [
    "#определим, сколько заказов содержали зарядный кабель Google Phone\n",
    "gp_uniq_id = df.query('product == \"Google Phone\"').id.nunique()\n",
    "gp_uniq_id"
   ]
  },
  {
   "cell_type": "code",
   "execution_count": 41,
   "id": "094a31e8",
   "metadata": {},
   "outputs": [
    {
     "data": {
      "text/plain": [
       "3.09"
      ]
     },
     "execution_count": 41,
     "metadata": {},
     "output_type": "execute_result"
    }
   ],
   "source": [
    "#вычислим вероятность того, что клиент закажет iPhone\n",
    "round(gp_uniq_id / uniq_id * 100, 2)"
   ]
  },
  {
   "cell_type": "markdown",
   "id": "4903e9c9",
   "metadata": {},
   "source": [
    "**Ответ:** Вероятность того, что клиент закажет Google Phone составляет 3.09%"
   ]
  },
  {
   "cell_type": "markdown",
   "id": "2a5f2e75",
   "metadata": {},
   "source": [
    "#### 10. Какова вероятность того, что клиент закажет Проводные наушники?"
   ]
  },
  {
   "cell_type": "code",
   "execution_count": 42,
   "id": "04113adc",
   "metadata": {},
   "outputs": [
    {
     "data": {
      "text/plain": [
       "18847"
      ]
     },
     "execution_count": 42,
     "metadata": {},
     "output_type": "execute_result"
    }
   ],
   "source": [
    "#определим, сколько заказов содержали зарядный кабель Google Phone\n",
    "wh_uniq_id = df.query('product == \"Wired Headphones\"').id.nunique()\n",
    "wh_uniq_id"
   ]
  },
  {
   "cell_type": "code",
   "execution_count": 43,
   "id": "a86c720a",
   "metadata": {},
   "outputs": [
    {
     "data": {
      "text/plain": [
       "10.56"
      ]
     },
     "execution_count": 43,
     "metadata": {},
     "output_type": "execute_result"
    }
   ],
   "source": [
    "#вычислим вероятность того, что клиент закажет iPhone\n",
    "round(wh_uniq_id / uniq_id * 100, 2)"
   ]
  },
  {
   "cell_type": "markdown",
   "id": "b523157e",
   "metadata": {},
   "source": [
    "**Ответ:** Вероятность того, что клиент закажет Проводные наушники составляет 10.56%"
   ]
  }
 ],
 "metadata": {
  "kernelspec": {
   "display_name": "Python 3 (ipykernel)",
   "language": "python",
   "name": "python3"
  },
  "language_info": {
   "codemirror_mode": {
    "name": "ipython",
    "version": 3
   },
   "file_extension": ".py",
   "mimetype": "text/x-python",
   "name": "python",
   "nbconvert_exporter": "python",
   "pygments_lexer": "ipython3",
   "version": "3.9.13"
  }
 },
 "nbformat": 4,
 "nbformat_minor": 5
}
